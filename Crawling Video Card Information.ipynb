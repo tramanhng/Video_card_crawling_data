{
 "cells": [
  {
   "cell_type": "code",
   "execution_count": 2,
   "id": "12e64e11",
   "metadata": {},
   "outputs": [],
   "source": [
    "import pandas as pd\n",
    "import requests\n",
    "from bs4 import BeautifulSoup\n",
    "import re\n",
    "import sqlalchemy as db\n",
    "import numpy as np"
   ]
  },
  {
   "cell_type": "code",
   "execution_count": 3,
   "id": "736a1d5c",
   "metadata": {},
   "outputs": [
    {
     "name": "stdout",
     "output_type": "stream",
     "text": [
      "3600\n"
     ]
    }
   ],
   "source": [
    "# Crawl data from page\n",
    "page = 1\n",
    "last_scrappng_page = 100\n",
    "data = []\n",
    "\n",
    "for page in range(1, last_scrappng_page + 1):\n",
    "    url = f\"https://www.newegg.com/GPUs-Video-Graphics-Cards/SubCategory/ID-48/Page-{page}?Tid=7709\"\n",
    "    result = requests.get(url)\n",
    "    source = result.text\n",
    "    soup = BeautifulSoup(source, 'html.parser')\n",
    "    card_info_list = soup.find_all('div', class_ = 'item-container')\n",
    "    \n",
    "    for card_info in card_info_list:\n",
    "# Get required information\n",
    "        card_id = card_info['id']\n",
    "\n",
    "        title = card_info.find('a', class_ = 'item-title').text\n",
    "        \n",
    "        try:\n",
    "            brand = card_info.find('div', class_ = 'item-branding').find('img')['title']\n",
    "        except: brand = np.NaN\n",
    "\n",
    "        try: \n",
    "            rating_title = card_info.find('div', class_ = 'item-branding').find('a', class_='item-rating')['title']\n",
    "            rating = re.findall('Rating .* (\\d+.*)', rating_title)[0]\n",
    "        except: rating = np.NaN\n",
    "            \n",
    "        try:\n",
    "            str_rating_num = card_info.find('span', class_ = 'item-rating-num').text\n",
    "            rating_num = re.findall('\\(([0-9_]+)\\)', str_rating_num)[0]\n",
    "            rating_num = int(rating_num)\n",
    "        except: rating_num = 0\n",
    "        \n",
    "        try:\n",
    "            integer_price = card_info.find('li', class_ = 'price-current').find('strong').text\n",
    "            decimal_price = card_info.find('li', class_ = 'price-current').find('sup').text\n",
    "            str_price = integer_price + decimal_price\n",
    "            price = float(str_price.replace(',',''))\n",
    "        except:\n",
    "            price = np.NaN\n",
    " \n",
    "        shipping_type = card_info.find('li', class_ = 'price-ship').text\n",
    "        shipping = re.findall('(\\w+.*) [S|s]hipping', shipping_type)[0]\n",
    "        if shipping == 'Free' or shipping == 'free' or shipping == 'Special': shipping_fee = 0\n",
    "        else: shipping_fee = float(shipping)\n",
    "\n",
    "        image_url = card_info.find('img')['src']\n",
    "\n",
    "        row = dict(card_id = card_id,\n",
    "                  title = title,\n",
    "                  brand = brand,\n",
    "                  rating = rating,\n",
    "                  rating_num = rating_num,\n",
    "                  price = price,\n",
    "                  shipping_type = shipping_type,\n",
    "                  shipping_fee = shipping_fee,\n",
    "                  total_price = price + shipping_fee,\n",
    "                  image_url = image_url)\n",
    "        data.append(row)\n",
    "        page = page + 1\n",
    "print(len(data))"
   ]
  },
  {
   "cell_type": "code",
   "execution_count": 4,
   "id": "93a759ff",
   "metadata": {},
   "outputs": [],
   "source": [
    "# Create csv file include video card information\n",
    "card_info = pd.DataFrame(data)\n",
    "card_info.to_csv('card_info.csv', index = False)"
   ]
  }
 ],
 "metadata": {
  "kernelspec": {
   "display_name": "Python 3",
   "language": "python",
   "name": "python3"
  },
  "language_info": {
   "codemirror_mode": {
    "name": "ipython",
    "version": 3
   },
   "file_extension": ".py",
   "mimetype": "text/x-python",
   "name": "python",
   "nbconvert_exporter": "python",
   "pygments_lexer": "ipython3",
   "version": "3.8.8"
  }
 },
 "nbformat": 4,
 "nbformat_minor": 5
}
